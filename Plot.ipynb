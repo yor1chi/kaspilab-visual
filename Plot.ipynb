{
 "cells": [
  {
   "cell_type": "code",
   "execution_count": 1,
   "metadata": {
    "collapsed": true
   },
   "outputs": [
    {
     "data": {
      "text/plain": "interactive(children=(Dropdown(description='x', options=('Canada', 'China', 'Europe', 'Germany', 'Hong Kong', …",
      "application/vnd.jupyter.widget-view+json": {
       "version_major": 2,
       "version_minor": 0,
       "model_id": "c659bd9106d34cf0beef2170d7903a5c"
      }
     },
     "metadata": {},
     "output_type": "display_data"
    },
    {
     "data": {
      "text/plain": "<function __main__.f(x)>"
     },
     "execution_count": 1,
     "metadata": {},
     "output_type": "execute_result"
    }
   ],
   "source": [
    "import cx_Oracle\n",
    "import pandas as pd\n",
    "from matplotlib import pyplot as plt\n",
    "from ipywidgets import interact\n",
    "import Views\n",
    "connectionData = cx_Oracle.connect(user='User Name', password='Password name',\n",
    "                                   dsn='localhost:1521/xe', encoding='UTF-8')\n",
    "\n",
    "try:\n",
    "    processed = pd.read_sql(\"\"\"SELECT * FROM V_PROCESSED\"\"\", connectionData)\n",
    "except cx_Oracle.Error as error:\n",
    "    print('Error has occurred:')\n",
    "    print(error)\n",
    "\n",
    "years = [str(x) for x in processed.Year.values]\n",
    "months = [str(x) for x in processed.Month.values]\n",
    "time = [years[x] + ', ' + months[x] for x in range(len(months))]\n",
    "\n",
    "regions = []\n",
    "for i in processed.REGION.unique():\n",
    "    regions.append(i)\n",
    "\n",
    "processed['Period'] = time\n",
    "procVisual = processed[['REGION', 'Period', 'Maximal opening price', 'Minimal price over period']]\n",
    "\n",
    "\n",
    "def f(x):\n",
    "    plt.figure(figsize=(10., 5))\n",
    "    ax = plt.gca()\n",
    "    procVisual[procVisual.REGION == x].plot(kind='line', x='Period', y='Maximal opening price', ax=ax)\n",
    "    procVisual[procVisual.REGION == x].plot(kind='line', x='Period', y='Minimal price over period', color='red',\n",
    "                                            ax=ax)\n",
    "    plt.show()\n",
    "\n",
    "\n",
    "interact(f, x=regions)"
   ]
  }
 ],
 "metadata": {
  "kernelspec": {
   "display_name": "Python 3",
   "language": "python",
   "name": "python3"
  },
  "language_info": {
   "codemirror_mode": {
    "name": "ipython",
    "version": 2
   },
   "file_extension": ".py",
   "mimetype": "text/x-python",
   "name": "python",
   "nbconvert_exporter": "python",
   "pygments_lexer": "ipython2",
   "version": "2.7.6"
  }
 },
 "nbformat": 4,
 "nbformat_minor": 0
}